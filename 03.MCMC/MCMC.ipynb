{
 "cells": [
  {
   "cell_type": "code",
   "execution_count": 12,
   "id": "1900ec29",
   "metadata": {},
   "outputs": [],
   "source": [
    "import numpy as np\n",
    "import pandas as pd\n",
    "import matplotlib.pyplot as plt\n",
    "import seaborn as sns # Use seaborn for reliable dataset loading\n",
    "from scipy import stats\n",
    "from tqdm import tqdm\n",
    "import os"
   ]
  },
  {
   "cell_type": "code",
   "execution_count": 2,
   "id": "982c234a",
   "metadata": {},
   "outputs": [],
   "source": [
    "data = sns.load_dataset('geyser')"
   ]
  },
  {
   "cell_type": "code",
   "execution_count": null,
   "id": "ad62554e",
   "metadata": {},
   "outputs": [],
   "source": [
    "sns.load_dataset()"
   ]
  },
  {
   "cell_type": "code",
   "execution_count": 23,
   "id": "6c46de8c",
   "metadata": {},
   "outputs": [
    {
     "name": "stderr",
     "output_type": "stream",
     "text": [
      "100%|██████████| 22/22 [00:00<00:00, 58.63it/s]\n"
     ]
    }
   ],
   "source": [
    "for dataset in tqdm(sns.get_dataset_names()):\n",
    "    sns_data = sns.load_dataset(dataset)\n",
    "    dataset_path = os.path.join(r\"C:\\Users\\RODRIGOMEDINA\\OneDrive - QUANTIA INGENIERIA\\Doctorado\\Biblioteca\\Datasets\\sns_datasets\", dataset + \".csv\")\n",
    "    sns_data.to_csv(dataset_path, index = False)"
   ]
  },
  {
   "cell_type": "code",
   "execution_count": 22,
   "id": "4e387699",
   "metadata": {},
   "outputs": [
    {
     "data": {
      "text/plain": [
       "'C:\\\\Users\\\\RODRIGOMEDINA\\\\OneDrive - QUANTIA INGENIERIA\\\\Doctorado\\\\Biblioteca\\\\Datasets\\\\sns_datasets\\\\titanic.csv'"
      ]
     },
     "execution_count": 22,
     "metadata": {},
     "output_type": "execute_result"
    }
   ],
   "source": [
    "dataset_path"
   ]
  },
  {
   "cell_type": "code",
   "execution_count": 4,
   "id": "b08d3e56",
   "metadata": {},
   "outputs": [
    {
     "data": {
      "text/plain": [
       "pandas.core.frame.DataFrame"
      ]
     },
     "execution_count": 4,
     "metadata": {},
     "output_type": "execute_result"
    }
   ],
   "source": [
    "type(data)"
   ]
  },
  {
   "cell_type": "code",
   "execution_count": 6,
   "id": "df521532",
   "metadata": {},
   "outputs": [],
   "source": [
    "data.to_csv('data/geyser.csv', index=False)"
   ]
  }
 ],
 "metadata": {
  "kernelspec": {
   "display_name": "deep_learning",
   "language": "python",
   "name": "python3"
  },
  "language_info": {
   "codemirror_mode": {
    "name": "ipython",
    "version": 3
   },
   "file_extension": ".py",
   "mimetype": "text/x-python",
   "name": "python",
   "nbconvert_exporter": "python",
   "pygments_lexer": "ipython3",
   "version": "3.9.7"
  }
 },
 "nbformat": 4,
 "nbformat_minor": 5
}
