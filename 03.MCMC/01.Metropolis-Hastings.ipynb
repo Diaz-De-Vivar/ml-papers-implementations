{
 "cells": [
  {
   "cell_type": "markdown",
   "id": "c4f9d9b4",
   "metadata": {},
   "source": [
    "### **Metropolis-Hastings MCMC: Code & Visual Explanation**\n",
    "\n",
    "Sampling from a distribution proportional to $\\pi(A)=3$ and $\\pi(B)=1$.\n",
    "\n",
    "**1. Problem Setup**\n",
    "\n",
    "*   **States:** $\\{A, B\\}$\n",
    "*   **Unnormalized Target:** $\\pi(A) = 3$, $\\pi(B) = 1$ (Target: 75% A, 25% B)\n",
    "*   **Proposal $Q(x'|x)$:** Symmetric; always propose the *other* state.\n",
    "*   **Acceptance Probability $\\alpha(x'|x)$:** $\\min(1, \\pi(x')/\\pi(x))$\n",
    "    *   $\\alpha(B | A) = \\min(1, 1/3) = 1/3$\n",
    "    *   $\\alpha(A | B) = \\min(1, 3/1) = 1$"
   ]
  },
  {
   "cell_type": "markdown",
   "id": "95eda8c7",
   "metadata": {},
   "source": [
    "**2. Implementation in Python**"
   ]
  },
  {
   "cell_type": "code",
   "execution_count": 1,
   "id": "0b365c34",
   "metadata": {},
   "outputs": [],
   "source": [
    "import random\n",
    "import matplotlib.pyplot as plt\n",
    "from collections import Counter\n",
    "\n",
    "# --- 1. Define the Target Distribution (Unnormalized) ---\n",
    "target_pi = {\"A\": 3.0, \"B\": 1.0}\n",
    "states = list(target_pi.keys()) # [\"A\", \"B\"]\n",
    "\n",
    "# --- 2. Define the Proposal Distribution ---\n",
    "# Given current state, propose the other state\n",
    "def propose_state(current_state):\n",
    "    if current_state == \"A\":\n",
    "        return \"B\"\n",
    "    else: # current_state == \"B\"\n",
    "        return \"A\"\n",
    "    # Note: For this simple case Q(x'|x) = Q(x|x') = 1 if x' != x, 0 otherwise.\n",
    "    # It's symmetric.\n",
    "\n",
    "# --- 3. Define the Acceptance Probability ---\n",
    "# Uses the simplified Metropolis formula because Q is symmetric\n",
    "def acceptance_probability(current_state, proposed_state, target_dist):\n",
    "    pi_current = target_dist[current_state]\n",
    "    pi_proposed = target_dist[proposed_state]\n",
    "    \n",
    "    acceptance_ratio = pi_proposed / pi_current\n",
    "    \n",
    "    return min(1.0, acceptance_ratio)\n",
    "\n",
    "# --- 4. The MCMC Step Function ---\n",
    "def mcmc_step(current_state, target_dist):\n",
    "    # a) Propose a new state\n",
    "    proposed = propose_state(current_state)\n",
    "    \n",
    "    # b) Calculate acceptance probability\n",
    "    alpha = acceptance_probability(current_state, proposed, target_dist)\n",
    "    \n",
    "    # c) Decide to accept or reject\n",
    "    u = random.uniform(0, 1) # Generate random number [0, 1)\n",
    "    \n",
    "    if u < alpha:\n",
    "        # Accept the proposal\n",
    "        next_state = proposed\n",
    "    else:\n",
    "        # Reject the proposal, stay in current state\n",
    "        next_state = current_state\n",
    "        \n",
    "    return next_state\n",
    "\n",
    "# --- 5. Run the MCMC Simulation ---\n",
    "def run_mcmc(initial_state, target_dist, num_steps):\n",
    "    # Check if initial state is valid\n",
    "    if initial_state not in target_dist:\n",
    "        raise ValueError(\"Initial state not in target distribution states\")\n",
    "        \n",
    "    chain = [initial_state] # Start the chain\n",
    "    current = initial_state\n",
    "    \n",
    "    for _ in range(num_steps):\n",
    "        current = mcmc_step(current, target_dist)\n",
    "        chain.append(current) # Add the *result* of the step\n",
    "        \n",
    "    return chain"
   ]
  },
  {
   "cell_type": "markdown",
   "id": "5c4ab777",
   "metadata": {},
   "source": [
    "**3. Running the Simulation**"
   ]
  },
  {
   "cell_type": "code",
   "execution_count": 2,
   "id": "4a81773b",
   "metadata": {},
   "outputs": [
    {
     "name": "stdout",
     "output_type": "stream",
     "text": [
      "First 20 states: ['A', 'A', 'A', 'B', 'A', 'A', 'B', 'A', 'A', 'A', 'A', 'A', 'A', 'B', 'A', 'B', 'A', 'A', 'A', 'B']\n"
     ]
    }
   ],
   "source": [
    "# Simulation Parameters\n",
    "num_iterations = 5000\n",
    "start_state = \"A\" # Can start in A or B\n",
    "\n",
    "# Run the simulation\n",
    "mcmc_chain = run_mcmc(start_state, target_pi, num_iterations)\n",
    "\n",
    "# Display the first few states\n",
    "print(f\"First 20 states: {mcmc_chain[:20]}\") "
   ]
  },
  {
   "cell_type": "markdown",
   "id": "875fda60",
   "metadata": {},
   "source": [
    "**4. Visualization and Analysis**\n",
    "\n",
    "Now, let's visualize the results.\n",
    "\n",
    "*   **a) Trace Plot:** Shows the sequence of states visited over time. This helps visualize the chain's movement and convergence."
   ]
  },
  {
   "cell_type": "code",
   "execution_count": 3,
   "id": "d2bf4153",
   "metadata": {},
   "outputs": [
    {
     "data": {
      "image/png": "[encoded data removed]",
      "text/plain": [
       "<Figure size 1200x400 with 1 Axes>"
      ]
     },
     "metadata": {},
     "output_type": "display_data"
    }
   ],
   "source": [
    "# Map states to numbers for plotting (e.g., A=0, B=1)\n",
    "state_map = {\"A\": 0, \"B\": 1}\n",
    "numeric_chain = [state_map[s] for s in mcmc_chain]\n",
    "\n",
    "plt.figure(figsize=(12, 4))\n",
    "plt.plot(numeric_chain, drawstyle='steps-post', marker='.', markersize=2, linestyle='') # Use steps-post for discrete states\n",
    "plt.yticks([0, 1], [\"A\", \"B\"]) # Label y-axis with state names\n",
    "plt.xlabel(\"Iteration\")\n",
    "plt.ylabel(\"State\")\n",
    "plt.title(\"MCMC Trace Plot\")\n",
    "plt.grid(axis='y', linestyle='--', alpha=0.7)\n",
    "plt.show()"
   ]
  },
  {
   "cell_type": "markdown",
   "id": "384fcdf4",
   "metadata": {},
   "source": [
    "*   **Interpretation:** You'll see the plot jumping between State A (0) and State B (1). Notice how it tends to stay longer in State A, occasionally jumping to B, and almost always immediately jumping back from B to A (because $\\alpha(A|B)=1$). If the chain started far from equilibrium (less relevant here with only 2 states), you might see the initial behaviour differ from the later behaviour (indicating burn-in).\n",
    "\n",
    "*   **b) Histogram of Samples (Post Burn-in):** Shows the frequency of each state in the chain, approximating the target distribution. We should discard the initial \"burn-in\" phase."
   ]
  },
  {
   "cell_type": "code",
   "execution_count": 4,
   "id": "98ee1702",
   "metadata": {},
   "outputs": [
    {
     "data": {
      "image/png": "[encoded data removed]",
      "text/plain": [
       "<Figure size 600x500 with 1 Axes>"
      ]
     },
     "metadata": {},
     "output_type": "display_data"
    },
    {
     "name": "stdout",
     "output_type": "stream",
     "text": [
      "\n",
      "Target Probabilities: P(A)=0.750, P(B)=0.250\n",
      "Empirical Probabilities (from 4501 samples after burn-in):\n",
      "  P(A) = 0.751\n",
      "  P(B) = 0.249\n"
     ]
    }
   ],
   "source": [
    "# Define burn-in period (e.g., first 10% of samples)\n",
    "burn_in = int(num_iterations * 0.1)\n",
    "samples_after_burn_in = mcmc_chain[burn_in:]\n",
    "\n",
    "# Count the occurrences of each state\n",
    "state_counts = Counter(samples_after_burn_in)\n",
    "total_samples = len(samples_after_burn_in)\n",
    "\n",
    "# Calculate empirical probabilities\n",
    "empirical_probs = {state: count / total_samples for state, count in state_counts.items()}\n",
    "\n",
    "# --- Plotting the Histogram ---\n",
    "states_list = list(empirical_probs.keys())\n",
    "emp_probs_list = [empirical_probs.get(s, 0) for s in states] # Ensure order A, B\n",
    "\n",
    "# Target probabilities for comparison\n",
    "target_probs_list = [target_pi[\"A\"] / (target_pi[\"A\"] + target_pi[\"B\"]),\n",
    "                     target_pi[\"B\"] / (target_pi[\"A\"] + target_pi[\"B\"])]\n",
    "\n",
    "\n",
    "plt.figure(figsize=(6, 5))\n",
    "bar_width = 0.35\n",
    "index = range(len(states))\n",
    "\n",
    "# Bar for empirical probabilities\n",
    "plt.bar(index, emp_probs_list, bar_width, label='MCMC Empirical Prob.', color='skyblue')\n",
    "\n",
    "# Add target probabilities as lines or points for comparison\n",
    "plt.hlines(target_probs_list[0], -bar_width/2, bar_width/2, colors='red', linestyles='dashed', label=f'Target P(A)={target_probs_list[0]:.2f}')\n",
    "plt.hlines(target_probs_list[1], 1-bar_width/2, 1+bar_width/2, colors='green', linestyles='dashed', label=f'Target P(B)={target_probs_list[1]:.2f}')\n",
    "\n",
    "plt.xlabel(\"State\")\n",
    "plt.ylabel(\"Probability\")\n",
    "plt.title(f\"Distribution of MCMC Samples (after {burn_in} burn-in)\")\n",
    "plt.xticks(index, states)\n",
    "plt.legend()\n",
    "plt.ylim(0, 1)\n",
    "plt.show()\n",
    "\n",
    "print(f\"\\nTarget Probabilities: P(A)={target_probs_list[0]:.3f}, P(B)={target_probs_list[1]:.3f}\")\n",
    "print(f\"Empirical Probabilities (from {total_samples} samples after burn-in):\")\n",
    "for state, prob in empirical_probs.items():\n",
    "    print(f\"  P({state}) = {prob:.3f}\")"
   ]
  },
  {
   "cell_type": "markdown",
   "id": "c4f9c933",
   "metadata": {},
   "source": [
    "*   **Interpretation:** The blue bars show the fraction of time the chain spent in State A and State B *after* the burn-in period. The dashed lines show the true target probabilities (0.75 for A, 0.25 for B). You should see that the empirical probabilities (blue bars) are very close to the target probabilities (dashed lines), demonstrating that the MCMC simulation successfully sampled from the desired distribution.\n",
    "\n",
    "**5. Key Takeaways Illustrated**\n",
    "\n",
    "*   **Code Implementation:** The core logic (propose, calculate ratio, accept/reject) is straightforward to implement.\n",
    "*   **Trace Plot:** Visualizes the chain's exploration and potential burn-in phase. Shows individual accept/reject decisions implicitly.\n",
    "*   **Histogram:** Provides the main result – an empirical approximation of the target distribution derived from the MCMC samples. Compares visually against the known target.\n",
    "*   **Convergence:** Running for more steps (`num_iterations`) generally leads to the empirical distribution getting closer to the target distribution.\n",
    "*   **Burn-in:** Discarding initial samples helps remove bias from the starting state.\n",
    "\n",
    "This example, though simple, captures the essential mechanics of the Metropolis-Hastings algorithm, which scales to much more complex, high-dimensional problems where the target distribution is intractable."
   ]
  }
 ],
 "metadata": {
  "kernelspec": {
   "display_name": "deep_learning",
   "language": "python",
   "name": "python3"
  },
  "language_info": {
   "codemirror_mode": {
    "name": "ipython",
    "version": 3
   },
   "file_extension": ".py",
   "mimetype": "text/x-python",
   "name": "python",
   "nbconvert_exporter": "python",
   "pygments_lexer": "ipython3",
   "version": "3.9.7"
  }
 },
 "nbformat": 4,
 "nbformat_minor": 5
}
